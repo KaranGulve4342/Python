{
 "cells": [
  {
   "cell_type": "code",
   "execution_count": 6,
   "metadata": {},
   "outputs": [
    {
     "name": "stdout",
     "output_type": "stream",
     "text": [
      "Requirement already satisfied: numpy in c:\\users\\karan\\desktop\\python\\gemini\\myenv\\lib\\site-packages (1.26.4)\n"
     ]
    },
    {
     "name": "stderr",
     "output_type": "stream",
     "text": [
      "\n",
      "[notice] A new release of pip is available: 24.0 -> 24.1.1\n",
      "[notice] To update, run: python.exe -m pip install --upgrade pip\n"
     ]
    }
   ],
   "source": [
    "!pip install numpy"
   ]
  },
  {
   "cell_type": "code",
   "execution_count": 4,
   "metadata": {},
   "outputs": [
    {
     "name": "stdout",
     "output_type": "stream",
     "text": [
      "arr1 + arr2 =  [ 7  9 11 13 15]\n"
     ]
    }
   ],
   "source": [
    "import numpy as np\n",
    "arr1 = np.array([1, 2, 3, 4, 5])\n",
    "arr2 = np.array([6, 7, 8, 9, 10])\n",
    "\n",
    "print(\"arr1 + arr2 = \", arr1 + arr2)"
   ]
  },
  {
   "cell_type": "code",
   "execution_count": 5,
   "metadata": {},
   "outputs": [
    {
     "name": "stdout",
     "output_type": "stream",
     "text": [
      "(5,)\n"
     ]
    }
   ],
   "source": [
    "print(arr1.shape)"
   ]
  },
  {
   "cell_type": "code",
   "execution_count": 7,
   "metadata": {},
   "outputs": [
    {
     "data": {
      "text/plain": [
       "array([[ 6,  7,  8,  9, 10]])"
      ]
     },
     "execution_count": 7,
     "metadata": {},
     "output_type": "execute_result"
    }
   ],
   "source": [
    "arr2.reshape(1, 5)"
   ]
  },
  {
   "cell_type": "code",
   "execution_count": 8,
   "metadata": {},
   "outputs": [
    {
     "data": {
      "text/plain": [
       "array([[1],\n",
       "       [2],\n",
       "       [3],\n",
       "       [4],\n",
       "       [5]])"
      ]
     },
     "execution_count": 8,
     "metadata": {},
     "output_type": "execute_result"
    }
   ],
   "source": [
    "arr1.reshape(5, 1)"
   ]
  },
  {
   "cell_type": "code",
   "execution_count": 9,
   "metadata": {},
   "outputs": [
    {
     "data": {
      "text/plain": [
       "130"
      ]
     },
     "execution_count": 9,
     "metadata": {},
     "output_type": "execute_result"
    }
   ],
   "source": [
    "arr1.dot(arr2)"
   ]
  },
  {
   "cell_type": "code",
   "execution_count": 11,
   "metadata": {},
   "outputs": [
    {
     "data": {
      "text/plain": [
       "array([[1., 1., 1., 1.],\n",
       "       [1., 1., 1., 1.],\n",
       "       [1., 1., 1., 1.]])"
      ]
     },
     "execution_count": 11,
     "metadata": {},
     "output_type": "execute_result"
    }
   ],
   "source": [
    "np.ones((3, 4))"
   ]
  },
  {
   "cell_type": "markdown",
   "metadata": {},
   "source": [
    "SQL and SQLite"
   ]
  },
  {
   "cell_type": "code",
   "execution_count": 2,
   "metadata": {},
   "outputs": [],
   "source": [
    "import sqlite3"
   ]
  },
  {
   "cell_type": "code",
   "execution_count": 3,
   "metadata": {},
   "outputs": [
    {
     "data": {
      "text/plain": [
       "<sqlite3.Connection at 0x2b824d75e40>"
      ]
     },
     "execution_count": 3,
     "metadata": {},
     "output_type": "execute_result"
    }
   ],
   "source": [
    "connection = sqlite3.connect(\"test.db\")\n",
    "connection"
   ]
  },
  {
   "cell_type": "code",
   "execution_count": 4,
   "metadata": {},
   "outputs": [],
   "source": [
    "cursor = connection.cursor()"
   ]
  },
  {
   "cell_type": "code",
   "execution_count": 5,
   "metadata": {},
   "outputs": [],
   "source": [
    "## create a table\n",
    "cursor.execute('''\n",
    "    Create Table if Not Exists employees(\n",
    "        id Integer Primary Key,\n",
    "        name Text Not Null,\n",
    "        age Integer,\n",
    "        department Text\n",
    "    )\n",
    "''')\n",
    "\n",
    "## Commiting the changes\n",
    "connection.commit()"
   ]
  },
  {
   "cell_type": "code",
   "execution_count": 7,
   "metadata": {},
   "outputs": [
    {
     "data": {
      "text/plain": [
       "<sqlite3.Cursor at 0x2b824fb0540>"
      ]
     },
     "execution_count": 7,
     "metadata": {},
     "output_type": "execute_result"
    }
   ],
   "source": [
    "cursor.execute('''\n",
    "    Select * from employees\n",
    "''')\n"
   ]
  },
  {
   "cell_type": "code",
   "execution_count": 8,
   "metadata": {},
   "outputs": [
    {
     "data": {
      "text/plain": [
       "<sqlite3.Cursor at 0x2b824fb0540>"
      ]
     },
     "execution_count": 8,
     "metadata": {},
     "output_type": "execute_result"
    }
   ],
   "source": [
    "## Insert the data in sqlite table\n",
    "cursor.execute('''\n",
    "    Insert into employees (name, age, department) values ('John', 25, 'HR')\n",
    "''')"
   ]
  },
  {
   "cell_type": "code",
   "execution_count": 9,
   "metadata": {},
   "outputs": [],
   "source": [
    "cursor.execute('''\n",
    "    Insert into employees (name, age, department) values ('Krish', 32, 'Data Scientist')\n",
    "''')\n",
    "\n",
    "cursor.execute('''\n",
    "    Insert into employees (name, age, department) values ('Karan', 22, 'SDE')\n",
    "''')\n",
    "\n",
    "cursor.execute('''\n",
    "    Insert into employees (name, age, department) values ('Oggy', 100, 'Entertainer')\n",
    "''')\n",
    "\n",
    "connection.commit()\n"
   ]
  },
  {
   "cell_type": "code",
   "execution_count": 10,
   "metadata": {},
   "outputs": [
    {
     "name": "stdout",
     "output_type": "stream",
     "text": [
      "(1, 'John', 25, 'HR')\n",
      "(2, 'Krish', 32, 'Data Scientist')\n",
      "(3, 'Karan', 22, 'SDE')\n",
      "(4, 'Oggy', 100, 'Entertainer')\n"
     ]
    }
   ],
   "source": [
    "# Query the Data from the table\n",
    "cursor.execute('''\n",
    "               Select * from employees\n",
    "''')\n",
    "rows = cursor.fetchall()\n",
    "\n",
    "## Print the Queried Data\n",
    "\n",
    "for row in rows:\n",
    "    print(row)"
   ]
  },
  {
   "cell_type": "code",
   "execution_count": 11,
   "metadata": {},
   "outputs": [
    {
     "data": {
      "text/plain": [
       "<sqlite3.Cursor at 0x2b824fb0540>"
      ]
     },
     "execution_count": 11,
     "metadata": {},
     "output_type": "execute_result"
    }
   ],
   "source": [
    "## Update the data in the table\n",
    "cursor.execute('''\n",
    "    Update employees set age = 26 where name = 'John'\n",
    "''')\n"
   ]
  },
  {
   "cell_type": "code",
   "execution_count": 12,
   "metadata": {},
   "outputs": [],
   "source": [
    "connection.commit()"
   ]
  },
  {
   "cell_type": "code",
   "execution_count": 13,
   "metadata": {},
   "outputs": [],
   "source": [
    "## Delete the data from the table\n",
    "cursor.execute('''\n",
    "    Delete from employees where name = 'John'\n",
    "''')\n",
    "\n",
    "connection.commit()"
   ]
  },
  {
   "cell_type": "code",
   "execution_count": 17,
   "metadata": {},
   "outputs": [
    {
     "name": "stdout",
     "output_type": "stream",
     "text": [
      "(2, 'Krish', 32, 'Data Scientist')\n",
      "(3, 'Karan', 22, 'SDE')\n",
      "(4, 'Oggy', 100, 'Entertainer')\n"
     ]
    }
   ],
   "source": [
    "cursor.execute('''\n",
    "    Select * from employees\n",
    "''')\n",
    "rows = cursor.fetchall()\n",
    "for row in rows:\n",
    "    print(row)"
   ]
  },
  {
   "cell_type": "code",
   "execution_count": 19,
   "metadata": {},
   "outputs": [],
   "source": [
    "## Working with sales datw\n",
    "\n",
    "## Connect to an SQLite database\n",
    "\n",
    "connection = sqlite3.connect('sales_data.db')\n",
    "cursor = connection.cursor()\n",
    "\n",
    "## Create table for sales data\n",
    "cursor.execute('''\n",
    "    CREATE TABLE IF NOT EXISTS sales (\n",
    "        id INTEGER PRIMARY KEY,\n",
    "        data text not null,\n",
    "        product text not null,\n",
    "        sales integer,\n",
    "        region text\n",
    "    )\n",
    "''')\n",
    "\n",
    "sales_data = [\n",
    "    ('2021-01-01', 'Laptop', 1000, 'North'),\n",
    "    ('2021-01-02', 'Laptop', 1500, 'South'),\n",
    "    ('2021-01-03', 'Desktop', 2000, 'East'),\n",
    "    ('2021-01-04', 'Desktop', 2500, 'West'),\n",
    "    ('2021-01-05', 'Desktop', 3000, 'North'),\n",
    "    ('2021-01-06', 'Laptop', 3500, 'South'),\n",
    "    ('2021-01-07', 'Laptop', 4000, 'East'),\n",
    "    ('2021-01-08', 'Desktop', 4500, 'West'),\n",
    "    ('2021-01-09', 'Desktop', 5000, 'North'),\n",
    "    ('2021-01-10', 'Laptop', 5500, 'South')\n",
    "]\n",
    "cursor.executemany('''\n",
    "    INSERT INTO sales (data, product, sales, region) VALUES (?, ?, ?, ?)\n",
    "''', sales_data)\n",
    "\n",
    "connection.commit()"
   ]
  },
  {
   "cell_type": "code",
   "execution_count": 20,
   "metadata": {},
   "outputs": [],
   "source": [
    "## Close the connection\n",
    "connection.close()"
   ]
  },
  {
   "cell_type": "code",
   "execution_count": null,
   "metadata": {},
   "outputs": [],
   "source": []
  },
  {
   "cell_type": "code",
   "execution_count": null,
   "metadata": {},
   "outputs": [],
   "source": []
  }
 ],
 "metadata": {
  "kernelspec": {
   "display_name": "myenv",
   "language": "python",
   "name": "python3"
  },
  "language_info": {
   "codemirror_mode": {
    "name": "ipython",
    "version": 3
   },
   "file_extension": ".py",
   "mimetype": "text/x-python",
   "name": "python",
   "nbconvert_exporter": "python",
   "pygments_lexer": "ipython3",
   "version": "3.12.2"
  }
 },
 "nbformat": 4,
 "nbformat_minor": 2
}
